{
 "cells": [
  {
   "cell_type": "code",
   "execution_count": 4,
   "metadata": {},
   "outputs": [
    {
     "name": "stdin",
     "output_type": "stream",
     "text": [
      "Bir kullanıcı adı seçiniz. berilpeksen\n",
      "Bir şifre seçiniz. berilpeksen1234\n",
      "Kullanıcı adınızı giriniz. peksenberil\n",
      "Şifrenizi giriniz. berilpeksen1234\n"
     ]
    },
    {
     "name": "stdout",
     "output_type": "stream",
     "text": [
      "Kullanıcı adı hatalı\n"
     ]
    }
   ],
   "source": [
    "#Global AI Hub Introduction to Python Homework 2\n",
    "kullanici_adi = input('Bir kullanıcı adı seçiniz.')\n",
    "sifre = input('Bir şifre seçiniz.')\n",
    "a= input('Kullanıcı adınızı giriniz.')\n",
    "b= input('Şifrenizi giriniz.')\n",
    "if (kullanici_adi==a and sifre==b):\n",
    "    print('Giriş başarılı')\n",
    "elif (kullanici_adi==a and sifre!=b):\n",
    "    print('Şifre hatalı')\n",
    "elif(kullanici_adi!=a and sifre==b):\n",
    "    print('Kullanıcı adı hatalı')\n",
    "else:\n",
    "    print('Kullanıcı adı ve şifre hatalı')"
   ]
  }
 ],
 "metadata": {
  "kernelspec": {
   "display_name": "Python 3",
   "language": "python",
   "name": "python3"
  },
  "language_info": {
   "codemirror_mode": {
    "name": "ipython",
    "version": 3
   },
   "file_extension": ".py",
   "mimetype": "text/x-python",
   "name": "python",
   "nbconvert_exporter": "python",
   "pygments_lexer": "ipython3",
   "version": "3.8.5"
  }
 },
 "nbformat": 4,
 "nbformat_minor": 4
}
