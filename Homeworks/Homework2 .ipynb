{
 "cells": [
  {
   "cell_type": "code",
   "execution_count": null,
   "metadata": {},
   "outputs": [],
   "source": [
    "#Global AI Hub Introduction to Python Homework 2\n",
    "kullanici_adi = input('Bir kullanıcı adı seçiniz.')\n",
    "sifre = input('Bir şifre seçiniz.')\n",
    "a= input('Kullanıcı adınızı giriniz.')\n",
    "b= input('Şifrenizi giriniz.')\n",
    "if (kullanici_adi==a and sifre==b):\n",
    "    print('Giriş başarılı')\n",
    "elif (kullanici_adi==a and sifre!=b):\n",
    "    print('Şifre hatalı')\n",
    "elif(kullanici_adi!=a and sifre==b):\n",
    "    print('Kullanıcı adı hatalı')\n",
    "else:\n",
    "    print('Kullanıcı adı ve şifre hatalı')"
   ]
  },
  {
   "cell_type": "code",
   "execution_count": null,
   "metadata": {},
   "outputs": [],
   "source": []
  }
 ],
 "metadata": {
  "kernelspec": {
   "display_name": "Python 3",
   "language": "python",
   "name": "python3"
  },
  "language_info": {
   "codemirror_mode": {
    "name": "ipython",
    "version": 3
   },
   "file_extension": ".py",
   "mimetype": "text/x-python",
   "name": "python",
   "nbconvert_exporter": "python",
   "pygments_lexer": "ipython3",
   "version": "3.8.5"
  }
 },
 "nbformat": 4,
 "nbformat_minor": 4
}
